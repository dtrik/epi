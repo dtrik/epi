{
 "cells": [
  {
   "cell_type": "markdown",
   "id": "e2ede4c7",
   "metadata": {},
   "source": [
    "### Compute parity\n",
    "If number of 1s in the binary representation of number is odd, parity is 1, 0 otherwise.  "
   ]
  },
  {
   "cell_type": "markdown",
   "id": "aff1a4ef",
   "metadata": {},
   "source": [
    "#### Brute-force Solution\n",
    "Keep on right shifting the number till we hit zero.  \n",
    "Check if the LSB is 1.\n",
    "* Bitwise And (num&1) of the number and 1  \n",
    "If it is 1, flip the parity. \n",
    "* result^(num&1)  \n",
    "Return the result at the end.  \n",
    "\n",
    ">Time Complexity: O(n) where n is the number of bits required to store the number"
   ]
  },
  {
   "cell_type": "code",
   "execution_count": null,
   "id": "73be792a",
   "metadata": {},
   "outputs": [],
   "source": [
    "def parity(num):\n",
    "    result = 0\n",
    "    while num:\n",
    "        result ^= num & 1\n",
    "        num >>= 1\n",
    "    return result"
   ]
  },
  {
   "cell_type": "markdown",
   "id": "fe30e509",
   "metadata": {},
   "source": [
    "#### Erasing the lowest set bit\n",
    "num&(num-1) will return the number with its lowest set bit erased.  \n",
    "Keep on erasing till the number is zero.  \n",
    "Count this number, if it is odd parity is 1, else 0.\n",
    "\n",
    ">Time complexity: O(k) where k is the number of set bits"
   ]
  },
  {
   "cell_type": "code",
   "execution_count": null,
   "id": "24b0bfed",
   "metadata": {},
   "outputs": [],
   "source": [
    "def parity(num):\n",
    "    result = 0\n",
    "    while num:\n",
    "        result+=1\n",
    "        num = num&(num-1)\n",
    "    return result%2"
   ]
  },
  {
   "cell_type": "code",
   "execution_count": null,
   "id": "a3a908cb",
   "metadata": {},
   "outputs": [
    {
     "data": {
      "text/plain": [
       "1"
      ]
     },
     "execution_count": null,
     "metadata": {},
     "output_type": "execute_result"
    }
   ],
   "source": [
    "parity(0b00101100)"
   ]
  },
  {
   "cell_type": "markdown",
   "id": "5089e887",
   "metadata": {},
   "source": [
    "Number of iterations = he number of 1s present in the number.  \n",
    "Instead of counting, we can flip the parity each time the loop runs.  \n",
    "For this, we xor the current result to 1.  \n",
    "So if there are 2 1s, the parity in the first iteration is 1 (0^1) and then it becomes 0 (1^1)."
   ]
  },
  {
   "cell_type": "code",
   "execution_count": null,
   "id": "f0a00243",
   "metadata": {},
   "outputs": [],
   "source": [
    "def parity(num):\n",
    "    result = 0\n",
    "    while num:\n",
    "        result ^= 1\n",
    "        num = num&(num-1)\n",
    "    return result"
   ]
  },
  {
   "cell_type": "markdown",
   "id": "0530e13b",
   "metadata": {},
   "source": [
    "### Parity of many numbers\n",
    "The above solutions are fine for a small set of numbers. But if it is required for a large set of numbers, it will take a lot of time to compute the parity of each. Instead we use caching. "
   ]
  }
 ],
 "metadata": {
  "kernelspec": {
   "display_name": "Python 3 (ipykernel)",
   "language": "python",
   "name": "python3"
  }
 },
 "nbformat": 4,
 "nbformat_minor": 5
}
