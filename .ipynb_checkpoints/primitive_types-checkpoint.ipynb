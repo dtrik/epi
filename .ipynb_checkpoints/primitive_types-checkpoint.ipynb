{
 "cells": [
  {
   "cell_type": "markdown",
   "id": "461fafd8",
   "metadata": {},
   "source": [
    "### Compute parity\n",
    "Keep on right shifting the number till we hit zero.  \n",
    "Check if the LSB is 1.\n",
    "* Bitwise And (num&1) of the number and 1  \n",
    "If it is 1, flip the parity. \n",
    "* result^(num&1)  \n",
    "Return the result at the end.  \n",
    "O(n) where n is the number of bits required to store the number"
   ]
  },
  {
   "cell_type": "code",
   "execution_count": null,
   "id": "ec715ab7",
   "metadata": {},
   "outputs": [],
   "source": [
    "def parity(num):\n",
    "    result = 0\n",
    "    while num:\n",
    "        result ^= num & 1\n",
    "        num >>= 1\n",
    "    return result"
   ]
  },
  {
   "cell_type": "code",
   "execution_count": null,
   "id": "59928cc3",
   "metadata": {},
   "outputs": [],
   "source": []
  }
 ],
 "metadata": {
  "kernelspec": {
   "display_name": "Python 3 (ipykernel)",
   "language": "python",
   "name": "python3"
  }
 },
 "nbformat": 4,
 "nbformat_minor": 5
}
