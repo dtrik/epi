{
 "cells": [
  {
   "cell_type": "markdown",
   "id": "1e2740e1",
   "metadata": {},
   "source": [
    "### Compute parity\n",
    "Keep on right shifting the number till we hit zero. Check the rightmost bit each time, each time 1 is hit, flip the parity. Return the result at the end. "
   ]
  },
  {
   "cell_type": "code",
   "execution_count": null,
   "id": "ff61d157",
   "metadata": {},
   "outputs": [],
   "source": [
    "def parity(num):\n",
    "    result = 0\n",
    "    while num:\n",
    "        result ^= num & 1\n",
    "        num >>= 1\n",
    "    return result"
   ]
  },
  {
   "cell_type": "code",
   "execution_count": null,
   "id": "d0a9c11c",
   "metadata": {},
   "outputs": [
    {
     "data": {
      "text/plain": [
       "1"
      ]
     },
     "execution_count": null,
     "metadata": {},
     "output_type": "execute_result"
    }
   ],
   "source": [
    "parity(1)"
   ]
  },
  {
   "cell_type": "code",
   "execution_count": null,
   "id": "6a4f7af9",
   "metadata": {},
   "outputs": [],
   "source": []
  }
 ],
 "metadata": {
  "kernelspec": {
   "display_name": "Python 3 (ipykernel)",
   "language": "python",
   "name": "python3"
  }
 },
 "nbformat": 4,
 "nbformat_minor": 5
}
